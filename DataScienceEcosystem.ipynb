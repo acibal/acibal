{
 "cells": [
  {
   "cell_type": "markdown",
   "id": "04b98c47-bf13-42b7-aeed-526a88b17a36",
   "metadata": {},
   "source": [
    "# Data Science Tools and Ecosystem #"
   ]
  },
  {
   "cell_type": "markdown",
   "id": "a895dc66-6bc2-498a-b0b3-500baffa08c3",
   "metadata": {},
   "source": [
    "In this notebook, Data Science Tools and Ecosystem are summarized."
   ]
  },
  {
   "cell_type": "markdown",
   "id": "cc1dfa0d-587c-4e18-9cbd-d7dc814d3f5b",
   "metadata": {},
   "source": [
    "Some of the popular languages that Data Scientists use are:"
   ]
  },
  {
   "cell_type": "markdown",
   "id": "9ec301d0-e462-44a2-bb35-bf49aff8f0b6",
   "metadata": {},
   "source": [
    "1. Python\n",
    "2. R\n",
    "3. Julia\n",
    "4. Java\n",
    "5. C\n",
    "6. C++\n",
    "7. Scala\n",
    "8. SQL"
   ]
  },
  {
   "cell_type": "markdown",
   "id": "d184a799-0c36-48ed-a1a3-d212950f2392",
   "metadata": {},
   "source": [
    "Some of the commonly used libraries used by Data Scientists include:"
   ]
  },
  {
   "cell_type": "markdown",
   "id": "8e3a91bc-5e73-4fad-bfe8-1a511d0c0023",
   "metadata": {},
   "source": [
    "1. Numpy\n",
    "2. Pandas\n",
    "3. Scikit-learn\n",
    "4. Matplotlib\n",
    "5. Seaborn\n",
    "6. SciPy\n",
    "7. NLTK"
   ]
  },
  {
   "cell_type": "markdown",
   "id": "247973ab-3c92-45d5-91b8-70962c3b0d10",
   "metadata": {},
   "source": [
    "| Data Science Tools        |\n",
    "|---------------------------|\n",
    "| Jupyter Notebook          |\n",
    "| RStudio                   |\n",
    "| Apache Spark              |\n"
   ]
  },
  {
   "cell_type": "markdown",
   "id": "79d79f8b-232f-42a5-9571-5267b6c56f50",
   "metadata": {},
   "source": [
    "### Below are a few examples of evaluating arithmetic expressions in Python.\n",
    "\n",
    "* `3 + 5` evaluates to **8**\n",
    "* `10 - 4` evaluates to **6**\n",
    "* `4 * 2` evaluates to **8**\n",
    "* `16 / 2` evaluates to **8.0**\n",
    "* `5 ** 2` evaluates to **25**\n",
    "* `10 % 3` evaluates to **1**"
   ]
  },
  {
   "cell_type": "code",
   "execution_count": 5,
   "id": "4019317c-bf34-4482-b214-18e959c264b5",
   "metadata": {
    "tags": []
   },
   "outputs": [
    {
     "data": {
      "text/plain": [
       "17"
      ]
     },
     "execution_count": 5,
     "metadata": {},
     "output_type": "execute_result"
    }
   ],
   "source": [
    "# This a simple arithmetic expression to mutiply then add integers\n",
    "(3*4)+5"
   ]
  },
  {
   "cell_type": "code",
   "execution_count": 6,
   "id": "c2c3eea8-cd3f-404c-b007-5fa9a46ac8ae",
   "metadata": {
    "tags": []
   },
   "outputs": [
    {
     "data": {
      "text/plain": [
       "3.3333333333333335"
      ]
     },
     "execution_count": 6,
     "metadata": {},
     "output_type": "execute_result"
    }
   ],
   "source": [
    "#This will convert 200 minutes to hours by diving by 60\n",
    "200 / 60"
   ]
  },
  {
   "cell_type": "markdown",
   "id": "5cee43fc-74b4-457e-8df3-613e85a4043a",
   "metadata": {},
   "source": [
    "**Objectives:**\n",
    "- List popular languages for Data Science\n",
    "- List commonly used libraries for Data Science\n",
    "- Create and format markdown cells in Jupyter\n",
    "- Perform arithmetic operations using code cells"
   ]
  },
  {
   "cell_type": "markdown",
   "id": "12a8a4b2-2660-45e3-9bfb-cbb565eb1fc5",
   "metadata": {},
   "source": [
    "## Author  \n",
    "ATAKAN ACIBAL"
   ]
  },
  {
   "cell_type": "code",
   "execution_count": null,
   "id": "46bff734-6a2f-408b-ba62-91727b7fe1a4",
   "metadata": {},
   "outputs": [],
   "source": []
  }
 ],
 "metadata": {
  "kernelspec": {
   "display_name": "Python 3 (ipykernel)",
   "language": "python",
   "name": "python3"
  },
  "language_info": {
   "codemirror_mode": {
    "name": "ipython",
    "version": 3
   },
   "file_extension": ".py",
   "mimetype": "text/x-python",
   "name": "python",
   "nbconvert_exporter": "python",
   "pygments_lexer": "ipython3",
   "version": "3.11.5"
  }
 },
 "nbformat": 4,
 "nbformat_minor": 5
}
